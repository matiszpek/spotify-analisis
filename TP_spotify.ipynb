{
 "cells": [
  {
   "cell_type": "code",
   "execution_count": 115,
   "metadata": {},
   "outputs": [],
   "source": [
    "import pandas as pd\n"
   ]
  },
  {
   "cell_type": "markdown",
   "metadata": {},
   "source": [
    "import pandas as pd\n",
    "import matplotlib as plt"
   ]
  },
  {
   "cell_type": "code",
   "execution_count": 116,
   "metadata": {},
   "outputs": [
    {
     "name": "stderr",
     "output_type": "stream",
     "text": [
      "C:\\Users\\48389918\\AppData\\Local\\Temp\\ipykernel_6968\\3782388289.py:2: DtypeWarning: Columns (16) have mixed types. Specify dtype option on import or set low_memory=False.\n",
      "  spoti=pd.read_csv(achivo)\n"
     ]
    },
    {
     "data": {
      "text/html": [
       "<div>\n",
       "<style scoped>\n",
       "    .dataframe tbody tr th:only-of-type {\n",
       "        vertical-align: middle;\n",
       "    }\n",
       "\n",
       "    .dataframe tbody tr th {\n",
       "        vertical-align: top;\n",
       "    }\n",
       "\n",
       "    .dataframe thead th {\n",
       "        text-align: right;\n",
       "    }\n",
       "</style>\n",
       "<table border=\"1\" class=\"dataframe\">\n",
       "  <thead>\n",
       "    <tr style=\"text-align: right;\">\n",
       "      <th></th>\n",
       "      <th>ts</th>\n",
       "      <th>username</th>\n",
       "      <th>platform</th>\n",
       "      <th>ms_played</th>\n",
       "      <th>conn_country</th>\n",
       "      <th>user_agent_decrypted</th>\n",
       "      <th>master_metadata_track_name</th>\n",
       "      <th>master_metadata_album_artist_name</th>\n",
       "      <th>master_metadata_album_album_name</th>\n",
       "      <th>spotify_track_uri</th>\n",
       "      <th>episode_name</th>\n",
       "      <th>episode_show_name</th>\n",
       "      <th>spotify_episode_uri</th>\n",
       "      <th>reason_start</th>\n",
       "      <th>reason_end</th>\n",
       "      <th>shuffle</th>\n",
       "      <th>skipped</th>\n",
       "      <th>offline</th>\n",
       "      <th>offline_timestamp</th>\n",
       "      <th>is_podcast</th>\n",
       "    </tr>\n",
       "  </thead>\n",
       "  <tbody>\n",
       "    <tr>\n",
       "      <th>0</th>\n",
       "      <td>2020-12-06T02:51:11Z</td>\n",
       "      <td>11145402699</td>\n",
       "      <td>iOS 14.2 (iPhone12,3)</td>\n",
       "      <td>145610</td>\n",
       "      <td>AR</td>\n",
       "      <td>unknown</td>\n",
       "      <td>Hey Jude - Remastered 2015</td>\n",
       "      <td>The Beatles</td>\n",
       "      <td>1</td>\n",
       "      <td>spotify:track:0aym2LBJBk9DAYuHHutrIl</td>\n",
       "      <td>NaN</td>\n",
       "      <td>NaN</td>\n",
       "      <td>NaN</td>\n",
       "      <td>trackdone</td>\n",
       "      <td>fwdbtn</td>\n",
       "      <td>True</td>\n",
       "      <td>NaN</td>\n",
       "      <td>False</td>\n",
       "      <td>1607222710755</td>\n",
       "      <td>False</td>\n",
       "    </tr>\n",
       "    <tr>\n",
       "      <th>1</th>\n",
       "      <td>2020-12-06T02:53:31Z</td>\n",
       "      <td>11145402699</td>\n",
       "      <td>iOS 14.2 (iPhone12,3)</td>\n",
       "      <td>138692</td>\n",
       "      <td>AR</td>\n",
       "      <td>unknown</td>\n",
       "      <td>Hacer un puente</td>\n",
       "      <td>La Franela</td>\n",
       "      <td>Hacer Un Puente</td>\n",
       "      <td>spotify:track:18Q3WTfyWX1tdS1cp42NhA</td>\n",
       "      <td>NaN</td>\n",
       "      <td>NaN</td>\n",
       "      <td>NaN</td>\n",
       "      <td>fwdbtn</td>\n",
       "      <td>fwdbtn</td>\n",
       "      <td>True</td>\n",
       "      <td>NaN</td>\n",
       "      <td>False</td>\n",
       "      <td>1607223071185</td>\n",
       "      <td>False</td>\n",
       "    </tr>\n",
       "    <tr>\n",
       "      <th>2</th>\n",
       "      <td>2020-12-06T02:53:53Z</td>\n",
       "      <td>11145402699</td>\n",
       "      <td>iOS 14.2 (iPhone12,3)</td>\n",
       "      <td>22662</td>\n",
       "      <td>AR</td>\n",
       "      <td>unknown</td>\n",
       "      <td>Happy Together - Remastered</td>\n",
       "      <td>The Turtles</td>\n",
       "      <td>All the Singles</td>\n",
       "      <td>spotify:track:2admbUc576sC6M0QeUkg2C</td>\n",
       "      <td>NaN</td>\n",
       "      <td>NaN</td>\n",
       "      <td>NaN</td>\n",
       "      <td>fwdbtn</td>\n",
       "      <td>fwdbtn</td>\n",
       "      <td>True</td>\n",
       "      <td>NaN</td>\n",
       "      <td>False</td>\n",
       "      <td>1607223210387</td>\n",
       "      <td>False</td>\n",
       "    </tr>\n",
       "    <tr>\n",
       "      <th>3</th>\n",
       "      <td>2020-12-06T02:53:56Z</td>\n",
       "      <td>11145402699</td>\n",
       "      <td>iOS 14.2 (iPhone12,3)</td>\n",
       "      <td>2716</td>\n",
       "      <td>AR</td>\n",
       "      <td>unknown</td>\n",
       "      <td>Demons</td>\n",
       "      <td>Imagine Dragons</td>\n",
       "      <td>Night Visions</td>\n",
       "      <td>spotify:track:5qaEfEh1AtSdrdrByCP7qR</td>\n",
       "      <td>NaN</td>\n",
       "      <td>NaN</td>\n",
       "      <td>NaN</td>\n",
       "      <td>fwdbtn</td>\n",
       "      <td>fwdbtn</td>\n",
       "      <td>True</td>\n",
       "      <td>NaN</td>\n",
       "      <td>False</td>\n",
       "      <td>1607223233165</td>\n",
       "      <td>False</td>\n",
       "    </tr>\n",
       "    <tr>\n",
       "      <th>4</th>\n",
       "      <td>2020-12-06T02:53:57Z</td>\n",
       "      <td>11145402699</td>\n",
       "      <td>iOS 14.2 (iPhone12,3)</td>\n",
       "      <td>116</td>\n",
       "      <td>AR</td>\n",
       "      <td>unknown</td>\n",
       "      <td>Paint It, Black</td>\n",
       "      <td>The Rolling Stones</td>\n",
       "      <td>Aftermath</td>\n",
       "      <td>spotify:track:63T7DJ1AFDD6Bn8VzG6JE8</td>\n",
       "      <td>NaN</td>\n",
       "      <td>NaN</td>\n",
       "      <td>NaN</td>\n",
       "      <td>fwdbtn</td>\n",
       "      <td>fwdbtn</td>\n",
       "      <td>True</td>\n",
       "      <td>NaN</td>\n",
       "      <td>False</td>\n",
       "      <td>1607223236453</td>\n",
       "      <td>False</td>\n",
       "    </tr>\n",
       "    <tr>\n",
       "      <th>...</th>\n",
       "      <td>...</td>\n",
       "      <td>...</td>\n",
       "      <td>...</td>\n",
       "      <td>...</td>\n",
       "      <td>...</td>\n",
       "      <td>...</td>\n",
       "      <td>...</td>\n",
       "      <td>...</td>\n",
       "      <td>...</td>\n",
       "      <td>...</td>\n",
       "      <td>...</td>\n",
       "      <td>...</td>\n",
       "      <td>...</td>\n",
       "      <td>...</td>\n",
       "      <td>...</td>\n",
       "      <td>...</td>\n",
       "      <td>...</td>\n",
       "      <td>...</td>\n",
       "      <td>...</td>\n",
       "      <td>...</td>\n",
       "    </tr>\n",
       "    <tr>\n",
       "      <th>125344</th>\n",
       "      <td>2018-10-05T22:44:53Z</td>\n",
       "      <td>11145402699</td>\n",
       "      <td>iOS 12.0 (iPhone8,1)</td>\n",
       "      <td>1365</td>\n",
       "      <td>AR</td>\n",
       "      <td>unknown</td>\n",
       "      <td>Gente Que No Sabe Lo Que Quiere</td>\n",
       "      <td>Litto Nebbia</td>\n",
       "      <td>Solo Se Trata de Vivir / Solopiano Vol. 1</td>\n",
       "      <td>spotify:track:3u8sP95YHOsYwRQfms6kgc</td>\n",
       "      <td>NaN</td>\n",
       "      <td>NaN</td>\n",
       "      <td>NaN</td>\n",
       "      <td>fwdbtn</td>\n",
       "      <td>fwdbtn</td>\n",
       "      <td>False</td>\n",
       "      <td>NaN</td>\n",
       "      <td>False</td>\n",
       "      <td>1538779491211</td>\n",
       "      <td>False</td>\n",
       "    </tr>\n",
       "    <tr>\n",
       "      <th>125345</th>\n",
       "      <td>2018-10-05T22:44:54Z</td>\n",
       "      <td>11145402699</td>\n",
       "      <td>iOS 12.0 (iPhone8,1)</td>\n",
       "      <td>1344</td>\n",
       "      <td>AR</td>\n",
       "      <td>unknown</td>\n",
       "      <td>11 Y 6</td>\n",
       "      <td>Fito Paez</td>\n",
       "      <td>Giros</td>\n",
       "      <td>spotify:track:2PkTjm1QAJCZbJ9MqC4RqA</td>\n",
       "      <td>NaN</td>\n",
       "      <td>NaN</td>\n",
       "      <td>NaN</td>\n",
       "      <td>fwdbtn</td>\n",
       "      <td>fwdbtn</td>\n",
       "      <td>False</td>\n",
       "      <td>NaN</td>\n",
       "      <td>False</td>\n",
       "      <td>1538779492740</td>\n",
       "      <td>False</td>\n",
       "    </tr>\n",
       "    <tr>\n",
       "      <th>125346</th>\n",
       "      <td>2018-10-05T22:44:55Z</td>\n",
       "      <td>11145402699</td>\n",
       "      <td>iOS 12.0 (iPhone8,1)</td>\n",
       "      <td>832</td>\n",
       "      <td>AR</td>\n",
       "      <td>unknown</td>\n",
       "      <td>Mientes</td>\n",
       "      <td>Charly García</td>\n",
       "      <td>Tango 4</td>\n",
       "      <td>spotify:track:670dXRMKr9vVtGk01dYeSr</td>\n",
       "      <td>NaN</td>\n",
       "      <td>NaN</td>\n",
       "      <td>NaN</td>\n",
       "      <td>fwdbtn</td>\n",
       "      <td>fwdbtn</td>\n",
       "      <td>False</td>\n",
       "      <td>NaN</td>\n",
       "      <td>False</td>\n",
       "      <td>1538779494205</td>\n",
       "      <td>False</td>\n",
       "    </tr>\n",
       "    <tr>\n",
       "      <th>125347</th>\n",
       "      <td>2018-10-05T22:44:56Z</td>\n",
       "      <td>11145402699</td>\n",
       "      <td>iOS 12.0 (iPhone8,1)</td>\n",
       "      <td>1194</td>\n",
       "      <td>AR</td>\n",
       "      <td>unknown</td>\n",
       "      <td>Apostar al Amor</td>\n",
       "      <td>Los Tipitos</td>\n",
       "      <td>Push</td>\n",
       "      <td>spotify:track:6PyBNCpOX5uOjKDNjNNgjq</td>\n",
       "      <td>NaN</td>\n",
       "      <td>NaN</td>\n",
       "      <td>NaN</td>\n",
       "      <td>fwdbtn</td>\n",
       "      <td>fwdbtn</td>\n",
       "      <td>False</td>\n",
       "      <td>NaN</td>\n",
       "      <td>False</td>\n",
       "      <td>1538779495059</td>\n",
       "      <td>False</td>\n",
       "    </tr>\n",
       "    <tr>\n",
       "      <th>125348</th>\n",
       "      <td>2018-10-05T22:44:58Z</td>\n",
       "      <td>11145402699</td>\n",
       "      <td>iOS 12.0 (iPhone8,1)</td>\n",
       "      <td>85</td>\n",
       "      <td>AR</td>\n",
       "      <td>unknown</td>\n",
       "      <td>El Palomo</td>\n",
       "      <td>Kevin Johansen</td>\n",
       "      <td>Kevin Johansen + The Nada + Liniers: Vivo En B...</td>\n",
       "      <td>spotify:track:5773XHHdECHO8d5BMWjtIS</td>\n",
       "      <td>NaN</td>\n",
       "      <td>NaN</td>\n",
       "      <td>NaN</td>\n",
       "      <td>fwdbtn</td>\n",
       "      <td>fwdbtn</td>\n",
       "      <td>False</td>\n",
       "      <td>NaN</td>\n",
       "      <td>False</td>\n",
       "      <td>1538779496312</td>\n",
       "      <td>False</td>\n",
       "    </tr>\n",
       "  </tbody>\n",
       "</table>\n",
       "<p>125349 rows × 20 columns</p>\n",
       "</div>"
      ],
      "text/plain": [
       "                          ts     username               platform  ms_played  \\\n",
       "0       2020-12-06T02:51:11Z  11145402699  iOS 14.2 (iPhone12,3)     145610   \n",
       "1       2020-12-06T02:53:31Z  11145402699  iOS 14.2 (iPhone12,3)     138692   \n",
       "2       2020-12-06T02:53:53Z  11145402699  iOS 14.2 (iPhone12,3)      22662   \n",
       "3       2020-12-06T02:53:56Z  11145402699  iOS 14.2 (iPhone12,3)       2716   \n",
       "4       2020-12-06T02:53:57Z  11145402699  iOS 14.2 (iPhone12,3)        116   \n",
       "...                      ...          ...                    ...        ...   \n",
       "125344  2018-10-05T22:44:53Z  11145402699   iOS 12.0 (iPhone8,1)       1365   \n",
       "125345  2018-10-05T22:44:54Z  11145402699   iOS 12.0 (iPhone8,1)       1344   \n",
       "125346  2018-10-05T22:44:55Z  11145402699   iOS 12.0 (iPhone8,1)        832   \n",
       "125347  2018-10-05T22:44:56Z  11145402699   iOS 12.0 (iPhone8,1)       1194   \n",
       "125348  2018-10-05T22:44:58Z  11145402699   iOS 12.0 (iPhone8,1)         85   \n",
       "\n",
       "       conn_country user_agent_decrypted       master_metadata_track_name  \\\n",
       "0                AR              unknown       Hey Jude - Remastered 2015   \n",
       "1                AR              unknown                  Hacer un puente   \n",
       "2                AR              unknown      Happy Together - Remastered   \n",
       "3                AR              unknown                           Demons   \n",
       "4                AR              unknown                  Paint It, Black   \n",
       "...             ...                  ...                              ...   \n",
       "125344           AR              unknown  Gente Que No Sabe Lo Que Quiere   \n",
       "125345           AR              unknown                           11 Y 6   \n",
       "125346           AR              unknown                          Mientes   \n",
       "125347           AR              unknown                  Apostar al Amor   \n",
       "125348           AR              unknown                        El Palomo   \n",
       "\n",
       "       master_metadata_album_artist_name  \\\n",
       "0                            The Beatles   \n",
       "1                             La Franela   \n",
       "2                            The Turtles   \n",
       "3                        Imagine Dragons   \n",
       "4                     The Rolling Stones   \n",
       "...                                  ...   \n",
       "125344                      Litto Nebbia   \n",
       "125345                         Fito Paez   \n",
       "125346                     Charly García   \n",
       "125347                       Los Tipitos   \n",
       "125348                    Kevin Johansen   \n",
       "\n",
       "                         master_metadata_album_album_name  \\\n",
       "0                                                       1   \n",
       "1                                         Hacer Un Puente   \n",
       "2                                         All the Singles   \n",
       "3                                           Night Visions   \n",
       "4                                               Aftermath   \n",
       "...                                                   ...   \n",
       "125344          Solo Se Trata de Vivir / Solopiano Vol. 1   \n",
       "125345                                              Giros   \n",
       "125346                                            Tango 4   \n",
       "125347                                               Push   \n",
       "125348  Kevin Johansen + The Nada + Liniers: Vivo En B...   \n",
       "\n",
       "                           spotify_track_uri episode_name episode_show_name  \\\n",
       "0       spotify:track:0aym2LBJBk9DAYuHHutrIl          NaN               NaN   \n",
       "1       spotify:track:18Q3WTfyWX1tdS1cp42NhA          NaN               NaN   \n",
       "2       spotify:track:2admbUc576sC6M0QeUkg2C          NaN               NaN   \n",
       "3       spotify:track:5qaEfEh1AtSdrdrByCP7qR          NaN               NaN   \n",
       "4       spotify:track:63T7DJ1AFDD6Bn8VzG6JE8          NaN               NaN   \n",
       "...                                      ...          ...               ...   \n",
       "125344  spotify:track:3u8sP95YHOsYwRQfms6kgc          NaN               NaN   \n",
       "125345  spotify:track:2PkTjm1QAJCZbJ9MqC4RqA          NaN               NaN   \n",
       "125346  spotify:track:670dXRMKr9vVtGk01dYeSr          NaN               NaN   \n",
       "125347  spotify:track:6PyBNCpOX5uOjKDNjNNgjq          NaN               NaN   \n",
       "125348  spotify:track:5773XHHdECHO8d5BMWjtIS          NaN               NaN   \n",
       "\n",
       "       spotify_episode_uri reason_start reason_end  shuffle skipped  offline  \\\n",
       "0                      NaN    trackdone     fwdbtn     True     NaN    False   \n",
       "1                      NaN       fwdbtn     fwdbtn     True     NaN    False   \n",
       "2                      NaN       fwdbtn     fwdbtn     True     NaN    False   \n",
       "3                      NaN       fwdbtn     fwdbtn     True     NaN    False   \n",
       "4                      NaN       fwdbtn     fwdbtn     True     NaN    False   \n",
       "...                    ...          ...        ...      ...     ...      ...   \n",
       "125344                 NaN       fwdbtn     fwdbtn    False     NaN    False   \n",
       "125345                 NaN       fwdbtn     fwdbtn    False     NaN    False   \n",
       "125346                 NaN       fwdbtn     fwdbtn    False     NaN    False   \n",
       "125347                 NaN       fwdbtn     fwdbtn    False     NaN    False   \n",
       "125348                 NaN       fwdbtn     fwdbtn    False     NaN    False   \n",
       "\n",
       "        offline_timestamp  is_podcast  \n",
       "0           1607222710755       False  \n",
       "1           1607223071185       False  \n",
       "2           1607223210387       False  \n",
       "3           1607223233165       False  \n",
       "4           1607223236453       False  \n",
       "...                   ...         ...  \n",
       "125344      1538779491211       False  \n",
       "125345      1538779492740       False  \n",
       "125346      1538779494205       False  \n",
       "125347      1538779495059       False  \n",
       "125348      1538779496312       False  \n",
       "\n",
       "[125349 rows x 20 columns]"
      ]
     },
     "execution_count": 116,
     "metadata": {},
     "output_type": "execute_result"
    }
   ],
   "source": [
    "achivo=\"https://raw.githubusercontent.com/IgnacioPardo/Tecnologias_Exponenciales_2024/main/TP_Spotify/StreamingHistory_Extended.csv\"\n",
    "spoti=pd.read_csv(achivo)\n",
    "spoti"
   ]
  },
  {
   "cell_type": "code",
   "execution_count": 117,
   "metadata": {},
   "outputs": [
    {
     "data": {
      "text/plain": [
       "ts                                   object\n",
       "username                              int64\n",
       "platform                             object\n",
       "ms_played                             int64\n",
       "conn_country                         object\n",
       "user_agent_decrypted                 object\n",
       "master_metadata_track_name           object\n",
       "master_metadata_album_artist_name    object\n",
       "master_metadata_album_album_name     object\n",
       "spotify_track_uri                    object\n",
       "episode_name                         object\n",
       "episode_show_name                    object\n",
       "spotify_episode_uri                  object\n",
       "reason_start                         object\n",
       "reason_end                           object\n",
       "shuffle                                bool\n",
       "skipped                              object\n",
       "offline                                bool\n",
       "offline_timestamp                     int64\n",
       "is_podcast                             bool\n",
       "dtype: object"
      ]
     },
     "execution_count": 117,
     "metadata": {},
     "output_type": "execute_result"
    }
   ],
   "source": [
    "#Analisis de las columnas, sus tipos de datos e importancia\n",
    "\n",
    "spoti.columns\n",
    "spoti.dtypes\n"
   ]
  },
  {
   "cell_type": "code",
   "execution_count": 42,
   "metadata": {},
   "outputs": [
    {
     "data": {
      "text/plain": [
       "Timestamp('2024-05-23 23:56:20+0000', tz='UTC')"
      ]
     },
     "execution_count": 42,
     "metadata": {},
     "output_type": "execute_result"
    }
   ],
   "source": [
    "#2.\n",
    "#¿A partir de que fecha se registraron las reproducciones? ¿Hasta que fecha?\n",
    "spoti[\"ts\"]=pd.to_datetime(spoti[\"ts\"])\n",
    "spoti[\"ts\"].min()\n",
    "spoti[\"ts\"].max()"
   ]
  },
  {
   "cell_type": "code",
   "execution_count": 41,
   "metadata": {},
   "outputs": [
    {
     "data": {
      "text/plain": [
       "11556"
      ]
     },
     "execution_count": 41,
     "metadata": {},
     "output_type": "execute_result"
    }
   ],
   "source": [
    "#3.\n",
    "#¿Cuántas canciones diferentes se escucharon en total?\n",
    "spoti[\"spotify_track_uri\"].nunique()"
   ]
  },
  {
   "cell_type": "code",
   "execution_count": 40,
   "metadata": {},
   "outputs": [
    {
     "data": {
      "text/plain": [
       "12583875841"
      ]
     },
     "execution_count": 40,
     "metadata": {},
     "output_type": "execute_result"
    }
   ],
   "source": [
    "#4.\n",
    "#¿Cuánto es la duración total de las reproducciones de canciones registradas? \n",
    "#Pista: ¿Alguna columna del dataset indica la duración de la reproducción?\n",
    "spoti[\"ms_played\"].sum()\n"
   ]
  },
  {
   "cell_type": "code",
   "execution_count": 56,
   "metadata": {},
   "outputs": [
    {
     "data": {
      "text/plain": [
       "'Charly García'"
      ]
     },
     "execution_count": 56,
     "metadata": {},
     "output_type": "execute_result"
    }
   ],
   "source": [
    "#5. ¿Cuál es el artista más escuchado por tiempo total de reproducción?\n",
    "artistaMasEscuchado=spoti.groupby(\"master_metadata_album_artist_name\")[[\"ms_played\"]].sum().sort_values(\"ms_played\",ascending=False).head(1)\n",
    "artistaMasEscuchado.index[0]"
   ]
  },
  {
   "cell_type": "code",
   "execution_count": 155,
   "metadata": {},
   "outputs": [
    {
     "ename": "ValueError",
     "evalue": "Can only compare identically-labeled Series objects",
     "output_type": "error",
     "traceback": [
      "\u001b[1;31m---------------------------------------------------------------------------\u001b[0m",
      "\u001b[1;31mValueError\u001b[0m                                Traceback (most recent call last)",
      "Cell \u001b[1;32mIn[155], line 6\u001b[0m\n\u001b[0;32m      4\u001b[0m tiempocancionmas\u001b[38;5;241m=\u001b[39mmasescuchada\u001b[38;5;241m.\u001b[39msum()\n\u001b[0;32m      5\u001b[0m nombrecancionmasescuchadaportiempodereproduccion\u001b[38;5;241m=\u001b[39mspoti[spoti[\u001b[38;5;124m'\u001b[39m\u001b[38;5;124mspotify_track_uri\u001b[39m\u001b[38;5;124m'\u001b[39m]\u001b[38;5;241m==\u001b[39mmasescuchada\u001b[38;5;241m.\u001b[39mindex[\u001b[38;5;241m0\u001b[39m]][\u001b[38;5;124m\"\u001b[39m\u001b[38;5;124mmaster_metadata_track_name\u001b[39m\u001b[38;5;124m\"\u001b[39m]\u001b[38;5;241m.\u001b[39mhead(\u001b[38;5;241m1\u001b[39m)\u001b[38;5;241m.\u001b[39miloc[\u001b[38;5;241m0\u001b[39m]\n\u001b[1;32m----> 6\u001b[0m nombrecancionmaseddddscuchadaportiempodereproduccion\u001b[38;5;241m=\u001b[39mspoti[\u001b[43mspoti\u001b[49m\u001b[43m[\u001b[49m\u001b[38;5;124;43m'\u001b[39;49m\u001b[38;5;124;43mspotify_track_uri\u001b[39;49m\u001b[38;5;124;43m'\u001b[39;49m\u001b[43m]\u001b[49m\u001b[38;5;241;43m==\u001b[39;49m\u001b[43mmasescuchada\u001b[49m\u001b[38;5;241;43m.\u001b[39;49m\u001b[43mhead\u001b[49m\u001b[43m(\u001b[49m\u001b[38;5;241;43m10\u001b[39;49m\u001b[43m)\u001b[49m][\u001b[38;5;124m\"\u001b[39m\u001b[38;5;124mmaster_metadata_track_name\u001b[39m\u001b[38;5;124m\"\u001b[39m]\u001b[38;5;241m.\u001b[39mhead(\u001b[38;5;241m10\u001b[39m)\n",
      "File \u001b[1;32mc:\\Python310\\lib\\site-packages\\pandas\\core\\ops\\common.py:76\u001b[0m, in \u001b[0;36m_unpack_zerodim_and_defer.<locals>.new_method\u001b[1;34m(self, other)\u001b[0m\n\u001b[0;32m     72\u001b[0m             \u001b[38;5;28;01mreturn\u001b[39;00m \u001b[38;5;28mNotImplemented\u001b[39m\n\u001b[0;32m     74\u001b[0m other \u001b[38;5;241m=\u001b[39m item_from_zerodim(other)\n\u001b[1;32m---> 76\u001b[0m \u001b[38;5;28;01mreturn\u001b[39;00m \u001b[43mmethod\u001b[49m\u001b[43m(\u001b[49m\u001b[38;5;28;43mself\u001b[39;49m\u001b[43m,\u001b[49m\u001b[43m \u001b[49m\u001b[43mother\u001b[49m\u001b[43m)\u001b[49m\n",
      "File \u001b[1;32mc:\\Python310\\lib\\site-packages\\pandas\\core\\arraylike.py:40\u001b[0m, in \u001b[0;36mOpsMixin.__eq__\u001b[1;34m(self, other)\u001b[0m\n\u001b[0;32m     38\u001b[0m \u001b[38;5;129m@unpack_zerodim_and_defer\u001b[39m(\u001b[38;5;124m\"\u001b[39m\u001b[38;5;124m__eq__\u001b[39m\u001b[38;5;124m\"\u001b[39m)\n\u001b[0;32m     39\u001b[0m \u001b[38;5;28;01mdef\u001b[39;00m \u001b[38;5;21m__eq__\u001b[39m(\u001b[38;5;28mself\u001b[39m, other):\n\u001b[1;32m---> 40\u001b[0m     \u001b[38;5;28;01mreturn\u001b[39;00m \u001b[38;5;28;43mself\u001b[39;49m\u001b[38;5;241;43m.\u001b[39;49m\u001b[43m_cmp_method\u001b[49m\u001b[43m(\u001b[49m\u001b[43mother\u001b[49m\u001b[43m,\u001b[49m\u001b[43m \u001b[49m\u001b[43moperator\u001b[49m\u001b[38;5;241;43m.\u001b[39;49m\u001b[43meq\u001b[49m\u001b[43m)\u001b[49m\n",
      "File \u001b[1;32mc:\\Python310\\lib\\site-packages\\pandas\\core\\series.py:6114\u001b[0m, in \u001b[0;36mSeries._cmp_method\u001b[1;34m(self, other, op)\u001b[0m\n\u001b[0;32m   6111\u001b[0m res_name \u001b[38;5;241m=\u001b[39m ops\u001b[38;5;241m.\u001b[39mget_op_result_name(\u001b[38;5;28mself\u001b[39m, other)\n\u001b[0;32m   6113\u001b[0m \u001b[38;5;28;01mif\u001b[39;00m \u001b[38;5;28misinstance\u001b[39m(other, Series) \u001b[38;5;129;01mand\u001b[39;00m \u001b[38;5;129;01mnot\u001b[39;00m \u001b[38;5;28mself\u001b[39m\u001b[38;5;241m.\u001b[39m_indexed_same(other):\n\u001b[1;32m-> 6114\u001b[0m     \u001b[38;5;28;01mraise\u001b[39;00m \u001b[38;5;167;01mValueError\u001b[39;00m(\u001b[38;5;124m\"\u001b[39m\u001b[38;5;124mCan only compare identically-labeled Series objects\u001b[39m\u001b[38;5;124m\"\u001b[39m)\n\u001b[0;32m   6116\u001b[0m lvalues \u001b[38;5;241m=\u001b[39m \u001b[38;5;28mself\u001b[39m\u001b[38;5;241m.\u001b[39m_values\n\u001b[0;32m   6117\u001b[0m rvalues \u001b[38;5;241m=\u001b[39m extract_array(other, extract_numpy\u001b[38;5;241m=\u001b[39m\u001b[38;5;28;01mTrue\u001b[39;00m, extract_range\u001b[38;5;241m=\u001b[39m\u001b[38;5;28;01mTrue\u001b[39;00m)\n",
      "\u001b[1;31mValueError\u001b[0m: Can only compare identically-labeled Series objects"
     ]
    }
   ],
   "source": [
    "#6. ¿Cuál es la canción más escuchada por tiempo total de reproducción?\n",
    "masescuchada=spoti.groupby('spotify_track_uri')['ms_played'].max().sort_values(ascending=False).head(10)\n",
    "\n",
    "tiempocancionmas=masescuchada.sum()\n",
    "nombrecancionmasescuchadaportiempodereproduccion=spoti[spoti['spotify_track_uri']==masescuchada.index[0]][\"master_metadata_track_name\"].head(1).iloc[0]\n"
   ]
  },
  {
   "cell_type": "code",
   "execution_count": 124,
   "metadata": {},
   "outputs": [
    {
     "name": "stdout",
     "output_type": "stream",
     "text": [
      "Hablando a Tu Corazón de Charly García\n"
     ]
    }
   ],
   "source": [
    "#7. Del artista más escuchado (por tiempo reproducido), ¿cuál es la canción más escuchada?\n",
    "\n",
    "\n",
    "artisasPorOrden = spoti.groupby(\"master_metadata_album_artist_name\")[[\"ms_played\"]].sum().sort_values(\"ms_played\", ascending=False)\n",
    "nombremasescuchado = artisasPorOrden.head(1).index[0]\n",
    "\n",
    "cancionMas = spoti[spoti[\"master_metadata_album_artist_name\"] == nombremasescuchado]\n",
    "cancionMas = cancionMas.groupby(\"master_metadata_track_name\")[[\"ms_played\"]].sum().sort_values(\"ms_played\", ascending=False).head(1)\n",
    "\n",
    "cancionmasescuchadaportiemporeproducido=cancionMas.index[0]\n",
    "print(cancionmasescuchadaportiemporeproducido,\"de\",nombremasescuchado)\n"
   ]
  },
  {
   "cell_type": "code",
   "execution_count": 125,
   "metadata": {},
   "outputs": [
    {
     "data": {
      "text/plain": [
       "<Axes: title={'center': 'Top 10 de artistas más escuchados'}, xlabel='Artistas', ylabel='Tiempo de reproducción en ms'>"
      ]
     },
     "execution_count": 125,
     "metadata": {},
     "output_type": "execute_result"
    },
    {
     "data": {
      "image/png": "[encoded data removed]",
      "text/plain": [
       "<Figure size 640x480 with 1 Axes>"
      ]
     },
     "metadata": {},
     "output_type": "display_data"
    }
   ],
   "source": [
    "#8. Determinar el top 10 de artistas más escuchados . Elegir un tipo de gráfico adecuado para visualizar los resultados.\n",
    "artisasPorOrden.head(10).plot(kind=\"bar\",title=\"Top 10 de artistas más escuchados\",xlabel=\"Artistas\",ylabel=\"Tiempo de reproducción en ms\")\n",
    "\n"
   ]
  },
  {
   "cell_type": "code",
   "execution_count": 128,
   "metadata": {},
   "outputs": [
    {
     "ename": "AttributeError",
     "evalue": "'Index' object has no attribute 'plot'",
     "output_type": "error",
     "traceback": [
      "\u001b[1;31m---------------------------------------------------------------------------\u001b[0m",
      "\u001b[1;31mAttributeError\u001b[0m                            Traceback (most recent call last)",
      "Cell \u001b[1;32mIn[128], line 2\u001b[0m\n\u001b[0;32m      1\u001b[0m \u001b[38;5;66;03m#9. Determinar el top 10 de canciones más escuchadas. Elegir un tipo de gráfico adecuado para visualizar los resultados.\u001b[39;00m\n\u001b[1;32m----> 2\u001b[0m \u001b[43mmasescuchada\u001b[49m\u001b[38;5;241;43m.\u001b[39;49m\u001b[43mindex\u001b[49m\u001b[43m[\u001b[49m\u001b[43m:\u001b[49m\u001b[38;5;241;43m10\u001b[39;49m\u001b[43m]\u001b[49m\u001b[38;5;241;43m.\u001b[39;49m\u001b[43mplot\u001b[49m(kind\u001b[38;5;241m=\u001b[39m\u001b[38;5;124m\"\u001b[39m\u001b[38;5;124mbar\u001b[39m\u001b[38;5;124m\"\u001b[39m,title\u001b[38;5;241m=\u001b[39m\u001b[38;5;124m\"\u001b[39m\u001b[38;5;124mTop 10 de canciones más escuchadas\u001b[39m\u001b[38;5;124m\"\u001b[39m,xlabel\u001b[38;5;241m=\u001b[39m\u001b[38;5;124m\"\u001b[39m\u001b[38;5;124mCanciones\u001b[39m\u001b[38;5;124m\"\u001b[39m,ylabel\u001b[38;5;241m=\u001b[39m\u001b[38;5;124m\"\u001b[39m\u001b[38;5;124mTiempo de reproducción en ms\u001b[39m\u001b[38;5;124m\"\u001b[39m)\n",
      "\u001b[1;31mAttributeError\u001b[0m: 'Index' object has no attribute 'plot'"
     ]
    }
   ],
   "source": [
    "#9. Determinar el top 10 de canciones más escuchadas. Elegir un tipo de gráfico adecuado para visualizar los resultados.\n"
   ]
  }
 ],
 "metadata": {
  "kernelspec": {
   "display_name": "Python 3",
   "language": "python",
   "name": "python3"
  },
  "language_info": {
   "codemirror_mode": {
    "name": "ipython",
    "version": 3
   },
   "file_extension": ".py",
   "mimetype": "text/x-python",
   "name": "python",
   "nbconvert_exporter": "python",
   "pygments_lexer": "ipython3",
   "version": "3.10.0"
  }
 },
 "nbformat": 4,
 "nbformat_minor": 2
}
