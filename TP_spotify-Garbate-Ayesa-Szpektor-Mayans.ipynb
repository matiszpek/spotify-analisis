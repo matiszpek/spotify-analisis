{
 "cells": [
  {
   "cell_type": "code",
   "execution_count": 1,
   "metadata": {},
   "outputs": [],
   "source": [
    "import pandas as pd\n"
   ]
  },
  {
   "cell_type": "markdown",
   "metadata": {},
   "source": [
    "import pandas as pd\n",
    "import matplotlib as plt"
   ]
  },
  {
   "cell_type": "code",
   "execution_count": 2,
   "metadata": {},
   "outputs": [
    {
     "name": "stderr",
     "output_type": "stream",
     "text": [
      "C:\\Users\\Lgarb\\AppData\\Local\\Temp\\ipykernel_27052\\3782388289.py:2: DtypeWarning: Columns (16) have mixed types. Specify dtype option on import or set low_memory=False.\n",
      "  spoti=pd.read_csv(achivo)\n"
     ]
    },
    {
     "data": {
      "text/html": [
       "<div>\n",
       "<style scoped>\n",
       "    .dataframe tbody tr th:only-of-type {\n",
       "        vertical-align: middle;\n",
       "    }\n",
       "\n",
       "    .dataframe tbody tr th {\n",
       "        vertical-align: top;\n",
       "    }\n",
       "\n",
       "    .dataframe thead th {\n",
       "        text-align: right;\n",
       "    }\n",
       "</style>\n",
       "<table border=\"1\" class=\"dataframe\">\n",
       "  <thead>\n",
       "    <tr style=\"text-align: right;\">\n",
       "      <th></th>\n",
       "      <th>ts</th>\n",
       "      <th>username</th>\n",
       "      <th>platform</th>\n",
       "      <th>ms_played</th>\n",
       "      <th>conn_country</th>\n",
       "      <th>user_agent_decrypted</th>\n",
       "      <th>master_metadata_track_name</th>\n",
       "      <th>master_metadata_album_artist_name</th>\n",
       "      <th>master_metadata_album_album_name</th>\n",
       "      <th>spotify_track_uri</th>\n",
       "      <th>episode_name</th>\n",
       "      <th>episode_show_name</th>\n",
       "      <th>spotify_episode_uri</th>\n",
       "      <th>reason_start</th>\n",
       "      <th>reason_end</th>\n",
       "      <th>shuffle</th>\n",
       "      <th>skipped</th>\n",
       "      <th>offline</th>\n",
       "      <th>offline_timestamp</th>\n",
       "      <th>is_podcast</th>\n",
       "    </tr>\n",
       "  </thead>\n",
       "  <tbody>\n",
       "    <tr>\n",
       "      <th>0</th>\n",
       "      <td>2020-12-06T02:51:11Z</td>\n",
       "      <td>11145402699</td>\n",
       "      <td>iOS 14.2 (iPhone12,3)</td>\n",
       "      <td>145610</td>\n",
       "      <td>AR</td>\n",
       "      <td>unknown</td>\n",
       "      <td>Hey Jude - Remastered 2015</td>\n",
       "      <td>The Beatles</td>\n",
       "      <td>1</td>\n",
       "      <td>spotify:track:0aym2LBJBk9DAYuHHutrIl</td>\n",
       "      <td>NaN</td>\n",
       "      <td>NaN</td>\n",
       "      <td>NaN</td>\n",
       "      <td>trackdone</td>\n",
       "      <td>fwdbtn</td>\n",
       "      <td>True</td>\n",
       "      <td>NaN</td>\n",
       "      <td>False</td>\n",
       "      <td>1607222710755</td>\n",
       "      <td>False</td>\n",
       "    </tr>\n",
       "    <tr>\n",
       "      <th>1</th>\n",
       "      <td>2020-12-06T02:53:31Z</td>\n",
       "      <td>11145402699</td>\n",
       "      <td>iOS 14.2 (iPhone12,3)</td>\n",
       "      <td>138692</td>\n",
       "      <td>AR</td>\n",
       "      <td>unknown</td>\n",
       "      <td>Hacer un puente</td>\n",
       "      <td>La Franela</td>\n",
       "      <td>Hacer Un Puente</td>\n",
       "      <td>spotify:track:18Q3WTfyWX1tdS1cp42NhA</td>\n",
       "      <td>NaN</td>\n",
       "      <td>NaN</td>\n",
       "      <td>NaN</td>\n",
       "      <td>fwdbtn</td>\n",
       "      <td>fwdbtn</td>\n",
       "      <td>True</td>\n",
       "      <td>NaN</td>\n",
       "      <td>False</td>\n",
       "      <td>1607223071185</td>\n",
       "      <td>False</td>\n",
       "    </tr>\n",
       "    <tr>\n",
       "      <th>2</th>\n",
       "      <td>2020-12-06T02:53:53Z</td>\n",
       "      <td>11145402699</td>\n",
       "      <td>iOS 14.2 (iPhone12,3)</td>\n",
       "      <td>22662</td>\n",
       "      <td>AR</td>\n",
       "      <td>unknown</td>\n",
       "      <td>Happy Together - Remastered</td>\n",
       "      <td>The Turtles</td>\n",
       "      <td>All the Singles</td>\n",
       "      <td>spotify:track:2admbUc576sC6M0QeUkg2C</td>\n",
       "      <td>NaN</td>\n",
       "      <td>NaN</td>\n",
       "      <td>NaN</td>\n",
       "      <td>fwdbtn</td>\n",
       "      <td>fwdbtn</td>\n",
       "      <td>True</td>\n",
       "      <td>NaN</td>\n",
       "      <td>False</td>\n",
       "      <td>1607223210387</td>\n",
       "      <td>False</td>\n",
       "    </tr>\n",
       "    <tr>\n",
       "      <th>3</th>\n",
       "      <td>2020-12-06T02:53:56Z</td>\n",
       "      <td>11145402699</td>\n",
       "      <td>iOS 14.2 (iPhone12,3)</td>\n",
       "      <td>2716</td>\n",
       "      <td>AR</td>\n",
       "      <td>unknown</td>\n",
       "      <td>Demons</td>\n",
       "      <td>Imagine Dragons</td>\n",
       "      <td>Night Visions</td>\n",
       "      <td>spotify:track:5qaEfEh1AtSdrdrByCP7qR</td>\n",
       "      <td>NaN</td>\n",
       "      <td>NaN</td>\n",
       "      <td>NaN</td>\n",
       "      <td>fwdbtn</td>\n",
       "      <td>fwdbtn</td>\n",
       "      <td>True</td>\n",
       "      <td>NaN</td>\n",
       "      <td>False</td>\n",
       "      <td>1607223233165</td>\n",
       "      <td>False</td>\n",
       "    </tr>\n",
       "    <tr>\n",
       "      <th>4</th>\n",
       "      <td>2020-12-06T02:53:57Z</td>\n",
       "      <td>11145402699</td>\n",
       "      <td>iOS 14.2 (iPhone12,3)</td>\n",
       "      <td>116</td>\n",
       "      <td>AR</td>\n",
       "      <td>unknown</td>\n",
       "      <td>Paint It, Black</td>\n",
       "      <td>The Rolling Stones</td>\n",
       "      <td>Aftermath</td>\n",
       "      <td>spotify:track:63T7DJ1AFDD6Bn8VzG6JE8</td>\n",
       "      <td>NaN</td>\n",
       "      <td>NaN</td>\n",
       "      <td>NaN</td>\n",
       "      <td>fwdbtn</td>\n",
       "      <td>fwdbtn</td>\n",
       "      <td>True</td>\n",
       "      <td>NaN</td>\n",
       "      <td>False</td>\n",
       "      <td>1607223236453</td>\n",
       "      <td>False</td>\n",
       "    </tr>\n",
       "    <tr>\n",
       "      <th>...</th>\n",
       "      <td>...</td>\n",
       "      <td>...</td>\n",
       "      <td>...</td>\n",
       "      <td>...</td>\n",
       "      <td>...</td>\n",
       "      <td>...</td>\n",
       "      <td>...</td>\n",
       "      <td>...</td>\n",
       "      <td>...</td>\n",
       "      <td>...</td>\n",
       "      <td>...</td>\n",
       "      <td>...</td>\n",
       "      <td>...</td>\n",
       "      <td>...</td>\n",
       "      <td>...</td>\n",
       "      <td>...</td>\n",
       "      <td>...</td>\n",
       "      <td>...</td>\n",
       "      <td>...</td>\n",
       "      <td>...</td>\n",
       "    </tr>\n",
       "    <tr>\n",
       "      <th>125344</th>\n",
       "      <td>2018-10-05T22:44:53Z</td>\n",
       "      <td>11145402699</td>\n",
       "      <td>iOS 12.0 (iPhone8,1)</td>\n",
       "      <td>1365</td>\n",
       "      <td>AR</td>\n",
       "      <td>unknown</td>\n",
       "      <td>Gente Que No Sabe Lo Que Quiere</td>\n",
       "      <td>Litto Nebbia</td>\n",
       "      <td>Solo Se Trata de Vivir / Solopiano Vol. 1</td>\n",
       "      <td>spotify:track:3u8sP95YHOsYwRQfms6kgc</td>\n",
       "      <td>NaN</td>\n",
       "      <td>NaN</td>\n",
       "      <td>NaN</td>\n",
       "      <td>fwdbtn</td>\n",
       "      <td>fwdbtn</td>\n",
       "      <td>False</td>\n",
       "      <td>NaN</td>\n",
       "      <td>False</td>\n",
       "      <td>1538779491211</td>\n",
       "      <td>False</td>\n",
       "    </tr>\n",
       "    <tr>\n",
       "      <th>125345</th>\n",
       "      <td>2018-10-05T22:44:54Z</td>\n",
       "      <td>11145402699</td>\n",
       "      <td>iOS 12.0 (iPhone8,1)</td>\n",
       "      <td>1344</td>\n",
       "      <td>AR</td>\n",
       "      <td>unknown</td>\n",
       "      <td>11 Y 6</td>\n",
       "      <td>Fito Paez</td>\n",
       "      <td>Giros</td>\n",
       "      <td>spotify:track:2PkTjm1QAJCZbJ9MqC4RqA</td>\n",
       "      <td>NaN</td>\n",
       "      <td>NaN</td>\n",
       "      <td>NaN</td>\n",
       "      <td>fwdbtn</td>\n",
       "      <td>fwdbtn</td>\n",
       "      <td>False</td>\n",
       "      <td>NaN</td>\n",
       "      <td>False</td>\n",
       "      <td>1538779492740</td>\n",
       "      <td>False</td>\n",
       "    </tr>\n",
       "    <tr>\n",
       "      <th>125346</th>\n",
       "      <td>2018-10-05T22:44:55Z</td>\n",
       "      <td>11145402699</td>\n",
       "      <td>iOS 12.0 (iPhone8,1)</td>\n",
       "      <td>832</td>\n",
       "      <td>AR</td>\n",
       "      <td>unknown</td>\n",
       "      <td>Mientes</td>\n",
       "      <td>Charly García</td>\n",
       "      <td>Tango 4</td>\n",
       "      <td>spotify:track:670dXRMKr9vVtGk01dYeSr</td>\n",
       "      <td>NaN</td>\n",
       "      <td>NaN</td>\n",
       "      <td>NaN</td>\n",
       "      <td>fwdbtn</td>\n",
       "      <td>fwdbtn</td>\n",
       "      <td>False</td>\n",
       "      <td>NaN</td>\n",
       "      <td>False</td>\n",
       "      <td>1538779494205</td>\n",
       "      <td>False</td>\n",
       "    </tr>\n",
       "    <tr>\n",
       "      <th>125347</th>\n",
       "      <td>2018-10-05T22:44:56Z</td>\n",
       "      <td>11145402699</td>\n",
       "      <td>iOS 12.0 (iPhone8,1)</td>\n",
       "      <td>1194</td>\n",
       "      <td>AR</td>\n",
       "      <td>unknown</td>\n",
       "      <td>Apostar al Amor</td>\n",
       "      <td>Los Tipitos</td>\n",
       "      <td>Push</td>\n",
       "      <td>spotify:track:6PyBNCpOX5uOjKDNjNNgjq</td>\n",
       "      <td>NaN</td>\n",
       "      <td>NaN</td>\n",
       "      <td>NaN</td>\n",
       "      <td>fwdbtn</td>\n",
       "      <td>fwdbtn</td>\n",
       "      <td>False</td>\n",
       "      <td>NaN</td>\n",
       "      <td>False</td>\n",
       "      <td>1538779495059</td>\n",
       "      <td>False</td>\n",
       "    </tr>\n",
       "    <tr>\n",
       "      <th>125348</th>\n",
       "      <td>2018-10-05T22:44:58Z</td>\n",
       "      <td>11145402699</td>\n",
       "      <td>iOS 12.0 (iPhone8,1)</td>\n",
       "      <td>85</td>\n",
       "      <td>AR</td>\n",
       "      <td>unknown</td>\n",
       "      <td>El Palomo</td>\n",
       "      <td>Kevin Johansen</td>\n",
       "      <td>Kevin Johansen + The Nada + Liniers: Vivo En B...</td>\n",
       "      <td>spotify:track:5773XHHdECHO8d5BMWjtIS</td>\n",
       "      <td>NaN</td>\n",
       "      <td>NaN</td>\n",
       "      <td>NaN</td>\n",
       "      <td>fwdbtn</td>\n",
       "      <td>fwdbtn</td>\n",
       "      <td>False</td>\n",
       "      <td>NaN</td>\n",
       "      <td>False</td>\n",
       "      <td>1538779496312</td>\n",
       "      <td>False</td>\n",
       "    </tr>\n",
       "  </tbody>\n",
       "</table>\n",
       "<p>125349 rows × 20 columns</p>\n",
       "</div>"
      ],
      "text/plain": [
       "                          ts     username               platform  ms_played  \\\n",
       "0       2020-12-06T02:51:11Z  11145402699  iOS 14.2 (iPhone12,3)     145610   \n",
       "1       2020-12-06T02:53:31Z  11145402699  iOS 14.2 (iPhone12,3)     138692   \n",
       "2       2020-12-06T02:53:53Z  11145402699  iOS 14.2 (iPhone12,3)      22662   \n",
       "3       2020-12-06T02:53:56Z  11145402699  iOS 14.2 (iPhone12,3)       2716   \n",
       "4       2020-12-06T02:53:57Z  11145402699  iOS 14.2 (iPhone12,3)        116   \n",
       "...                      ...          ...                    ...        ...   \n",
       "125344  2018-10-05T22:44:53Z  11145402699   iOS 12.0 (iPhone8,1)       1365   \n",
       "125345  2018-10-05T22:44:54Z  11145402699   iOS 12.0 (iPhone8,1)       1344   \n",
       "125346  2018-10-05T22:44:55Z  11145402699   iOS 12.0 (iPhone8,1)        832   \n",
       "125347  2018-10-05T22:44:56Z  11145402699   iOS 12.0 (iPhone8,1)       1194   \n",
       "125348  2018-10-05T22:44:58Z  11145402699   iOS 12.0 (iPhone8,1)         85   \n",
       "\n",
       "       conn_country user_agent_decrypted       master_metadata_track_name  \\\n",
       "0                AR              unknown       Hey Jude - Remastered 2015   \n",
       "1                AR              unknown                  Hacer un puente   \n",
       "2                AR              unknown      Happy Together - Remastered   \n",
       "3                AR              unknown                           Demons   \n",
       "4                AR              unknown                  Paint It, Black   \n",
       "...             ...                  ...                              ...   \n",
       "125344           AR              unknown  Gente Que No Sabe Lo Que Quiere   \n",
       "125345           AR              unknown                           11 Y 6   \n",
       "125346           AR              unknown                          Mientes   \n",
       "125347           AR              unknown                  Apostar al Amor   \n",
       "125348           AR              unknown                        El Palomo   \n",
       "\n",
       "       master_metadata_album_artist_name  \\\n",
       "0                            The Beatles   \n",
       "1                             La Franela   \n",
       "2                            The Turtles   \n",
       "3                        Imagine Dragons   \n",
       "4                     The Rolling Stones   \n",
       "...                                  ...   \n",
       "125344                      Litto Nebbia   \n",
       "125345                         Fito Paez   \n",
       "125346                     Charly García   \n",
       "125347                       Los Tipitos   \n",
       "125348                    Kevin Johansen   \n",
       "\n",
       "                         master_metadata_album_album_name  \\\n",
       "0                                                       1   \n",
       "1                                         Hacer Un Puente   \n",
       "2                                         All the Singles   \n",
       "3                                           Night Visions   \n",
       "4                                               Aftermath   \n",
       "...                                                   ...   \n",
       "125344          Solo Se Trata de Vivir / Solopiano Vol. 1   \n",
       "125345                                              Giros   \n",
       "125346                                            Tango 4   \n",
       "125347                                               Push   \n",
       "125348  Kevin Johansen + The Nada + Liniers: Vivo En B...   \n",
       "\n",
       "                           spotify_track_uri episode_name episode_show_name  \\\n",
       "0       spotify:track:0aym2LBJBk9DAYuHHutrIl          NaN               NaN   \n",
       "1       spotify:track:18Q3WTfyWX1tdS1cp42NhA          NaN               NaN   \n",
       "2       spotify:track:2admbUc576sC6M0QeUkg2C          NaN               NaN   \n",
       "3       spotify:track:5qaEfEh1AtSdrdrByCP7qR          NaN               NaN   \n",
       "4       spotify:track:63T7DJ1AFDD6Bn8VzG6JE8          NaN               NaN   \n",
       "...                                      ...          ...               ...   \n",
       "125344  spotify:track:3u8sP95YHOsYwRQfms6kgc          NaN               NaN   \n",
       "125345  spotify:track:2PkTjm1QAJCZbJ9MqC4RqA          NaN               NaN   \n",
       "125346  spotify:track:670dXRMKr9vVtGk01dYeSr          NaN               NaN   \n",
       "125347  spotify:track:6PyBNCpOX5uOjKDNjNNgjq          NaN               NaN   \n",
       "125348  spotify:track:5773XHHdECHO8d5BMWjtIS          NaN               NaN   \n",
       "\n",
       "       spotify_episode_uri reason_start reason_end  shuffle skipped  offline  \\\n",
       "0                      NaN    trackdone     fwdbtn     True     NaN    False   \n",
       "1                      NaN       fwdbtn     fwdbtn     True     NaN    False   \n",
       "2                      NaN       fwdbtn     fwdbtn     True     NaN    False   \n",
       "3                      NaN       fwdbtn     fwdbtn     True     NaN    False   \n",
       "4                      NaN       fwdbtn     fwdbtn     True     NaN    False   \n",
       "...                    ...          ...        ...      ...     ...      ...   \n",
       "125344                 NaN       fwdbtn     fwdbtn    False     NaN    False   \n",
       "125345                 NaN       fwdbtn     fwdbtn    False     NaN    False   \n",
       "125346                 NaN       fwdbtn     fwdbtn    False     NaN    False   \n",
       "125347                 NaN       fwdbtn     fwdbtn    False     NaN    False   \n",
       "125348                 NaN       fwdbtn     fwdbtn    False     NaN    False   \n",
       "\n",
       "        offline_timestamp  is_podcast  \n",
       "0           1607222710755       False  \n",
       "1           1607223071185       False  \n",
       "2           1607223210387       False  \n",
       "3           1607223233165       False  \n",
       "4           1607223236453       False  \n",
       "...                   ...         ...  \n",
       "125344      1538779491211       False  \n",
       "125345      1538779492740       False  \n",
       "125346      1538779494205       False  \n",
       "125347      1538779495059       False  \n",
       "125348      1538779496312       False  \n",
       "\n",
       "[125349 rows x 20 columns]"
      ]
     },
     "execution_count": 2,
     "metadata": {},
     "output_type": "execute_result"
    }
   ],
   "source": [
    "achivo=\"https://raw.githubusercontent.com/IgnacioPardo/Tecnologias_Exponenciales_2024/main/TP_Spotify/StreamingHistory_Extended.csv\"\n",
    "spoti=pd.read_csv(achivo)\n",
    "spoti"
   ]
  },
  {
   "cell_type": "code",
   "execution_count": 3,
   "metadata": {},
   "outputs": [
    {
     "data": {
      "text/plain": [
       "ts                                   object\n",
       "username                              int64\n",
       "platform                             object\n",
       "ms_played                             int64\n",
       "conn_country                         object\n",
       "user_agent_decrypted                 object\n",
       "master_metadata_track_name           object\n",
       "master_metadata_album_artist_name    object\n",
       "master_metadata_album_album_name     object\n",
       "spotify_track_uri                    object\n",
       "episode_name                         object\n",
       "episode_show_name                    object\n",
       "spotify_episode_uri                  object\n",
       "reason_start                         object\n",
       "reason_end                           object\n",
       "shuffle                                bool\n",
       "skipped                              object\n",
       "offline                                bool\n",
       "offline_timestamp                     int64\n",
       "is_podcast                             bool\n",
       "dtype: object"
      ]
     },
     "execution_count": 3,
     "metadata": {},
     "output_type": "execute_result"
    }
   ],
   "source": [
    "#Analisis de las columnas, sus tipos de datos e importancia\n",
    "\n",
    "spoti.columns\n",
    "spoti.dtypes\n"
   ]
  },
  {
   "cell_type": "code",
   "execution_count": 4,
   "metadata": {},
   "outputs": [
    {
     "data": {
      "text/plain": [
       "Timestamp('2024-05-23 23:56:20+0000', tz='UTC')"
      ]
     },
     "execution_count": 4,
     "metadata": {},
     "output_type": "execute_result"
    }
   ],
   "source": [
    "#2.\n",
    "#¿A partir de que fecha se registraron las reproducciones? ¿Hasta que fecha?\n",
    "spoti[\"ts\"]=pd.to_datetime(spoti[\"ts\"])\n",
    "spoti[\"ts\"].min()\n",
    "spoti[\"ts\"].max()\n"
   ]
  },
  {
   "cell_type": "code",
   "execution_count": 5,
   "metadata": {},
   "outputs": [
    {
     "name": "stdout",
     "output_type": "stream",
     "text": [
      "la cantidad de canciones unicas es:  11556\n"
     ]
    }
   ],
   "source": [
    "#3.\n",
    "#¿Cuántas canciones diferentes se escucharon en total?\n",
    "cancionesUnicas=spoti[\"spotify_track_uri\"].nunique()\n",
    "print(\"la cantidad de canciones unicas es: \",cancionesUnicas)"
   ]
  },
  {
   "cell_type": "code",
   "execution_count": 6,
   "metadata": {},
   "outputs": [
    {
     "name": "stdout",
     "output_type": "stream",
     "text": [
      "la duracion total de las canciones es:  12583875841\n"
     ]
    }
   ],
   "source": [
    "#4.\n",
    "#¿Cuánto es la duración total de las reproducciones de canciones registradas? \n",
    "#Pista: ¿Alguna columna del dataset indica la duración de la reproducción?\n",
    "duracioncanciones=spoti[\"ms_played\"].sum()\n",
    "print(\"la duracion total de las canciones es: \",duracioncanciones)\n"
   ]
  },
  {
   "cell_type": "code",
   "execution_count": 7,
   "metadata": {},
   "outputs": [
    {
     "name": "stdout",
     "output_type": "stream",
     "text": [
      "el artista mas escuchado es:  Charly García\n"
     ]
    }
   ],
   "source": [
    "#5. ¿Cuál es el artista más escuchado por tiempo total de reproducción?\n",
    "artistaMasEscuchado=spoti.groupby(\"master_metadata_album_artist_name\")[[\"ms_played\"]].sum().sort_values(\"ms_played\",ascending=False).head(1)\n",
    "artistaMasEscuchado.index[0]\n",
    "print(\"el artista mas escuchado es: \",artistaMasEscuchado.index[0])"
   ]
  },
  {
   "cell_type": "code",
   "execution_count": 8,
   "metadata": {},
   "outputs": [
    {
     "name": "stdout",
     "output_type": "stream",
     "text": [
      "la cancion mas escuchada por tiempo total de reproduccion es:  wish you were gay  y su tiempo de reproduccion es:  10756818 segundos\n"
     ]
    }
   ],
   "source": [
    "#6. ¿Cuál es la canción más escuchada por tiempo total de reproducción?\n",
    "masescuchada=spoti.groupby('spotify_track_uri')['ms_played'].max().sort_values(ascending=False).head(10)\n",
    "\n",
    "tiempocancionmas=masescuchada.sum()\n",
    "nombrecancionmasescuchadaportiempodereproduccion=spoti[spoti['spotify_track_uri']==masescuchada.index[0]][\"master_metadata_track_name\"].head(1).iloc[0]\n",
    "print(\"la cancion mas escuchada por tiempo total de reproduccion es: \",nombrecancionmasescuchadaportiempodereproduccion,\" y su tiempo de reproduccion es: \",tiempocancionmas,\"segundos\")"
   ]
  },
  {
   "cell_type": "code",
   "execution_count": 9,
   "metadata": {},
   "outputs": [
    {
     "name": "stdout",
     "output_type": "stream",
     "text": [
      "Hablando a Tu Corazón de Charly García\n"
     ]
    }
   ],
   "source": [
    "#7. Del artista más escuchado (por tiempo reproducido), ¿cuál es la canción más escuchada?\n",
    "\n",
    "\n",
    "artisasPorOrden = spoti.groupby(\"master_metadata_album_artist_name\")[[\"ms_played\"]].sum().sort_values(\"ms_played\", ascending=False)\n",
    "nombremasescuchado = artisasPorOrden.head(1).index[0]\n",
    "\n",
    "cancionMas = spoti[spoti[\"master_metadata_album_artist_name\"] == nombremasescuchado]\n",
    "cancionMas = cancionMas.groupby(\"master_metadata_track_name\")[[\"ms_played\"]].sum().sort_values(\"ms_played\", ascending=False).head(1)\n",
    "\n",
    "cancionmasescuchadaportiemporeproducido=cancionMas.index[0]\n",
    "print(cancionmasescuchadaportiemporeproducido,\"de\",nombremasescuchado)\n",
    "\n"
   ]
  },
  {
   "cell_type": "code",
   "execution_count": 10,
   "metadata": {},
   "outputs": [
    {
     "data": {
      "text/plain": [
       "<Axes: title={'center': 'Top 10 de artistas más escuchados'}, xlabel='Artistas', ylabel='Tiempo de reproducción en ms'>"
      ]
     },
     "execution_count": 10,
     "metadata": {},
     "output_type": "execute_result"
    },
    {
     "data": {
      "image/png": "[encoded data removed]",
      "text/plain": [
       "<Figure size 640x480 with 1 Axes>"
      ]
     },
     "metadata": {},
     "output_type": "display_data"
    }
   ],
   "source": [
    "#8. Determinar el top 10 de artistas más escuchados . Elegir un tipo de gráfico adecuado para visualizar los resultados.\n",
    "artisasPorOrden.head(10).plot(kind=\"bar\",title=\"Top 10 de artistas más escuchados\",xlabel=\"Artistas\",ylabel=\"Tiempo de reproducción en ms\")\n",
    "\n"
   ]
  },
  {
   "cell_type": "code",
   "execution_count": 11,
   "metadata": {},
   "outputs": [
    {
     "data": {
      "text/plain": [
       "<Axes: title={'center': 'Top 10 de canciones más escuchados'}, xlabel='Canciones', ylabel='Tiempo de reproducción\\xa0en\\xa0ms'>"
      ]
     },
     "execution_count": 11,
     "metadata": {},
     "output_type": "execute_result"
    },
    {
     "data": {
      "image/png": "[encoded data removed]",
      "text/plain": [
       "<Figure size 640x480 with 1 Axes>"
      ]
     },
     "metadata": {},
     "output_type": "display_data"
    }
   ],
   "source": [
    "#9. Determinar el top 10 de canciones más escuchadas. Elegir un tipo de gráfico adecuado para visualizar los resultados.\n",
    "\n",
    "ej9=spoti.groupby('master_metadata_track_name')['ms_played'].max().sort_values(ascending=False).head(10)\n",
    "ej9.head(10).plot(kind=\"bar\",title=\"Top 10 de canciones más escuchados\",xlabel=\"Canciones\",ylabel=\"Tiempo de reproducción en ms\")"
   ]
  },
  {
   "cell_type": "code",
   "execution_count": null,
   "metadata": {},
   "outputs": [],
   "source": [
    "#aca empiezan los bonuses."
   ]
  },
  {
   "cell_type": "code",
   "execution_count": 12,
   "metadata": {},
   "outputs": [
    {
     "data": {
      "text/plain": [
       "'On The Sunny Side Of The Street'"
      ]
     },
     "execution_count": 12,
     "metadata": {},
     "output_type": "execute_result"
    }
   ],
   "source": [
    "#¿Cual es la canción mas veces salteada?\n",
    "bonus1=spoti[['master_metadata_track_name','skipped']]\n",
    "bonus1=bonus1[spoti['skipped']==True].dropna()\n",
    "bonus1['master_metadata_track_name'].value_counts().idxmax()"
   ]
  },
  {
   "cell_type": "code",
   "execution_count": 13,
   "metadata": {},
   "outputs": [
    {
     "name": "stdout",
     "output_type": "stream",
     "text": [
      "el mes mas escuchado es April\n"
     ]
    }
   ],
   "source": [
    "import calendar\n",
    "# ¿Cuál es el mes en el que más se escucha música?\n",
    "mes = spoti[\"ts\"].dt.month.value_counts().idxmax()\n",
    "nombremes = calendar.month_name[mes]\n",
    "\n",
    "print(\"el mes mas escuchado es\",nombremes)"
   ]
  },
  {
   "cell_type": "code",
   "execution_count": 14,
   "metadata": {},
   "outputs": [
    {
     "name": "stdout",
     "output_type": "stream",
     "text": [
      "   master_metadata_album_artist_name\n",
      "ts                                  \n",
      "1              Red Hot Chili Peppers\n",
      "2              Red Hot Chili Peppers\n",
      "3              Red Hot Chili Peppers\n",
      "4                        Duran Duran\n",
      "5                   Childish Gambino\n",
      "6              Luis Alberto Spinetta\n",
      "7                           Polyphia\n",
      "8              Luis Alberto Spinetta\n",
      "9                      Charly García\n",
      "10                     Charly García\n",
      "11                        Pink Floyd\n",
      "12                          Bizarrap\n",
      "\n",
      "\n",
      "\n",
      "ts\n",
      "1     Red Hot Chili Peppers\n",
      "2     Red Hot Chili Peppers\n",
      "3     Red Hot Chili Peppers\n",
      "4               Duran Duran\n",
      "5          Childish Gambino\n",
      "6     Luis Alberto Spinetta\n",
      "7                  Polyphia\n",
      "8     Luis Alberto Spinetta\n",
      "9             Charly García\n",
      "10            Charly García\n",
      "11               Pink Floyd\n",
      "12                 Bizarrap\n",
      "dtype: object\n"
     ]
    }
   ],
   "source": [
    "#¿Cuál es el artista que más se escucha en cada mes?\n",
    "\n",
    "#version con documentacion\n",
    "meses = spoti[\"ts\"].dt.month\n",
    "artistaMes = pd.concat([meses, spoti[\"master_metadata_album_artist_name\"]], axis=1)  #artistas que se escucharon en cada mes\n",
    "artistaMes = artistaMes.groupby(\"ts\").agg(lambda x:x.value_counts().index[0])  #artista mas escuchado en cada mes\n",
    "print(artistaMes)\n",
    "print(\"\\n\\n\")\n",
    "\n",
    "\n",
    "\n",
    "#version con chatgpt\n",
    "conteo_artistas = artistaMes.groupby(['ts', 'master_metadata_album_artist_name']).size() \n",
    "conteo_artistas = conteo_artistas.unstack(fill_value=0)\n",
    "artista_mas_escuchado = conteo_artistas.idxmax(axis=1)\n",
    "print(artista_mas_escuchado)"
   ]
  },
  {
   "cell_type": "code",
   "execution_count": 15,
   "metadata": {},
   "outputs": [
    {
     "name": "stdout",
     "output_type": "stream",
     "text": [
      "el dia de la semana en el que mas se escucha musica es:  Saturday  y el horario del dia es:  22 horas\n"
     ]
    }
   ],
   "source": [
    "#¿Cuál es el día de la semana en el que más se escucha música? ¿Y el horario del día?\n",
    "diaMas=spoti[\"ts\"].dt.dayofweek.value_counts().idxmax()\n",
    "horaMas=spoti[\"hora\"]=spoti[\"ts\"].dt.hour.value_counts().idxmax()\n",
    "print(\"el dia de la semana en el que mas se escucha musica es: \",calendar.day_name[diaMas],\" y el horario del dia es: \",horaMas,\"horas\")"
   ]
  }
 ],
 "metadata": {
  "kernelspec": {
   "display_name": "Python 3",
   "language": "python",
   "name": "python3"
  },
  "language_info": {
   "codemirror_mode": {
    "name": "ipython",
    "version": 3
   },
   "file_extension": ".py",
   "mimetype": "text/x-python",
   "name": "python",
   "nbconvert_exporter": "python",
   "pygments_lexer": "ipython3",
   "version": "3.12.3"
  }
 },
 "nbformat": 4,
 "nbformat_minor": 2
}
